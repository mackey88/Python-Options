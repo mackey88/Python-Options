{
 "cells": [
  {
   "cell_type": "code",
   "execution_count": null,
   "metadata": {},
   "outputs": [],
   "source": [
    "# Used code from philk111 to help with using BeautifulSoup\n",
    "# Link below:\n",
    "# https://github.com/philk111/Nasdaq-options-scraper-with-Python/blob/master/options_scrape.py\n",
    "\n",
    "import json\n",
    "import requests\n",
    "from bs4 import BeautifulSoup as soup\n",
    "import pandas as pd\n",
    "import time"
   ]
  },
  {
   "cell_type": "code",
   "execution_count": null,
   "metadata": {},
   "outputs": [],
   "source": [
    "# Create empyt data frame to hold all the data\n",
    "\n",
    "columns = ['date', 'Symbol', 'Price', 'Strike', 'last', 'gain', 'bid', 'bidSize', 'ask', 'askSize', 'volume', 'interest', 'state', 'StrikePercent']\n",
    "\n",
    "df = pd.DataFrame(columns=columns)\n",
    "\n"
   ]
  },
  {
   "cell_type": "code",
   "execution_count": null,
   "metadata": {},
   "outputs": [],
   "source": [
    "# Create a list of symbols we want to get data on\n",
    "# List is mostly based of the 2016 most traded options by volume from CBOE in their\n",
    "# '2016 Market Statistics' report\n",
    "\n",
    "symbols = [\"AAPL\",\"BAC\",\"FB\",\"NFLX\",\"TWTR\",\"AMZN\",\"MSFT\",\"TSLA\",\"BABA\",\"C\",\"GE\",\"FCX\",\"PG\",\"MU\",\"INTC\",\"JPM\",\"XOM\",\"WFC\",\"T\",\"CHK\",\"X\",\"CSCO\",\"GILD\",\"F\",\"PFE\",\"DIS\",\"CVX\",\"GOLD\",\"AAL\",\"VZ\",\"NVDA\",\"SBUX\",\"GM\",\"AMD\",\"DAL\",\"WMT\",\"BMY\",\"CAT\",\"GPRO\",\"AA\",\"ET\",\"JCP\",\"RIG\",\"IBM\",\"NKE\",\"GOOGL\",\"GS\",\"PBR\",\"HD\",\"WYNN\",\"KMI\",\"QCOM\",\"CRM\",\"MCD\",\"COP\",\"V\",\"DB\",\"BIDU\",\"KO\",\"ORCL\",\"GOOG\",\"SRPT\",\"FIT\",\"CLF\",\"WLL\",\"CELG\",\"JNJ\",\"BA\",\"MS\",\"HAL\",\"VALE\",\"MRK\",\"LVS\",\"CMG\",\"BAX\",\"MRO\",\"TEVA\",\"SUN\",\"JD\",\"MDLZ\",\"ATVI\",\"SLB\",\"NEM\",\"UPS\",\"AGN\",\"ABBV\",\"MGM\", \"RAD\",\"TGT\",\"GG\",\"PYPL\",\"M\",\"EBAY\",\"BX\",\"BP\", \"SQ\", \"SHOP\"]\n",
    "\n"
   ]
  },
  {
   "cell_type": "code",
   "execution_count": null,
   "metadata": {},
   "outputs": [],
   "source": []
  },
  {
   "cell_type": "code",
   "execution_count": null,
   "metadata": {},
   "outputs": [],
   "source": [
    "\n",
    "# Loop through each Symbol and add date to dataframe\n",
    "\n",
    "\n",
    "for s in range(0, len(symbols)):\n",
    "    \n",
    "    print(\"Starting \" + symbols[s])\n",
    "    print(s)\n",
    "    url = 'https://www.nasdaq.com/symbol/' + symbols[s] + '/option-chain?callput=call'\n",
    "    response = requests.get(url)\n",
    "\n",
    "    page_soup = soup(response.content, \"html.parser\")\n",
    "\n",
    "\n",
    "    quote = page_soup.find(\"div\", {\"id\": \"qwidget_lastsale\"})\n",
    "\n",
    "    quote = quote.text.strip('$')\n",
    "\n",
    "    containers = page_soup.findAll(\"div\", {\"class\": \"OptionsChain-chart borderAll thin\"})\n",
    "\n",
    "    for container in containers:\n",
    "        table_container = container.findAll(\"tr\")\n",
    "\n",
    "    table_container = container.findAll(\"tr\")\n",
    "\n",
    "    rows = []\n",
    "    for row in table_container:\n",
    "\n",
    "        rows.append(row.findAll(\"td\"))\n",
    "\n",
    "\n",
    "    for i in range(1, len(rows)):\n",
    "\n",
    "        date = rows[i][0].text\n",
    "        symbol = rows[i][1].text\n",
    "        price = float(quote)\n",
    "        strike = float(rows[i][2].text)\n",
    "        \n",
    "        if rows[i][3].text == '':\n",
    "            last = .01\n",
    "        else:\n",
    "            last = float(rows[i][3].text)\n",
    "        \n",
    "        if rows[i][5].text == '':\n",
    "            bid = .01\n",
    "        else:\n",
    "            bid = float(rows[i][5].text)\n",
    "        bidSize = int(rows[i][6].text)\n",
    "\n",
    "        if rows[i][7].text == '':\n",
    "            ask = .01\n",
    "        else:\n",
    "            ask = float(rows[i][7].text)\n",
    "\n",
    "        askSize = int(rows[i][8].text)\n",
    "        volume = int(rows[i][9].text)\n",
    "\n",
    "        if rows[i][10].text == '':\n",
    "            interest = 0\n",
    "        else:\n",
    "            interest = int(rows[i][10].text)\n",
    "\n",
    "        if price < strike:\n",
    "            state = \"OTM\"\n",
    "            gain = bid / price * 100\n",
    "        elif price == strike:\n",
    "            state = \"ATM\"\n",
    "            gain = bid / price *100\n",
    "        else:\n",
    "            state = \"ITM\"\n",
    "            gain =  (bid - (price - strike)) / price * 100\n",
    "            \n",
    "        StrikePercent = price / strike * 100\n",
    "\n",
    "        df.at[len(df)] = [date, symbol, price, strike, last, gain, bid, bidSize, ask, askSize, volume, interest, state, StrikePercent]\n",
    "    time.sleep(2)\n",
    "    print(\"Finished \" + symbols[s])\n",
    "    "
   ]
  },
  {
   "cell_type": "code",
   "execution_count": null,
   "metadata": {},
   "outputs": [],
   "source": []
  },
  {
   "cell_type": "code",
   "execution_count": null,
   "metadata": {},
   "outputs": [],
   "source": [
    "# Write dataframe to file using the time as part of file name\n",
    "\n",
    "fileName = 'Options-' + time.ctime().replace('  ', ' ').replace(' ', '-') + '.csv'\n",
    "df.to_csv(fileName)"
   ]
  }
 ],
 "metadata": {
  "kernelspec": {
   "display_name": "Python 3",
   "language": "python",
   "name": "python3"
  },
  "language_info": {
   "codemirror_mode": {
    "name": "ipython",
    "version": 3
   },
   "file_extension": ".py",
   "mimetype": "text/x-python",
   "name": "python",
   "nbconvert_exporter": "python",
   "pygments_lexer": "ipython3",
   "version": "3.6.5"
  }
 },
 "nbformat": 4,
 "nbformat_minor": 2
}
